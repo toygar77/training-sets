{
 "cells": [
  {
   "cell_type": "code",
   "execution_count": 156,
   "id": "c98b8818",
   "metadata": {},
   "outputs": [
    {
     "name": "stdout",
     "output_type": "stream",
     "text": [
      "1 2 3 4 5 6 7 8 9 "
     ]
    }
   ],
   "source": [
    "for i in range(1,10):\n",
    "    print(i,end=\" \") # bişey yazmasan varsayılan olarak enter algılıyor"
   ]
  },
  {
   "cell_type": "code",
   "execution_count": 7,
   "id": "2feab491",
   "metadata": {},
   "outputs": [
    {
     "name": "stdout",
     "output_type": "stream",
     "text": [
      "John is 23 years old.\n",
      "John is 23 years old.\n"
     ]
    }
   ],
   "source": [
    "name='John'\n",
    "age=23\n",
    "print(\"{} is {} years old.\".format(name,age))\n",
    "print(f\"{name} is {age} years old.\") #f-string"
   ]
  },
  {
   "cell_type": "code",
   "execution_count": 35,
   "id": "17b407a3",
   "metadata": {
    "scrolled": true
   },
   "outputs": [
    {
     "name": "stdout",
     "output_type": "stream",
     "text": [
      "['red', 'yellow', 'blue', ['white', 'black']]\n"
     ]
    }
   ],
   "source": [
    "colors1=['red','yellow','blue']\n",
    "colors2=['white','black']\n",
    "colors1.append(colors2)\n",
    "print(colors1)"
   ]
  },
  {
   "cell_type": "code",
   "execution_count": 36,
   "id": "fc1854b7",
   "metadata": {},
   "outputs": [
    {
     "name": "stdout",
     "output_type": "stream",
     "text": [
      "['red', 'yellow', 'blue', 'white', 'black']\n"
     ]
    }
   ],
   "source": [
    "colors1=['red','yellow','blue']\n",
    "colors2=['white','black']\n",
    "colors1.extend(colors2)\n",
    "print(colors1)"
   ]
  },
  {
   "cell_type": "code",
   "execution_count": 45,
   "id": "e1b9e195",
   "metadata": {},
   "outputs": [
    {
     "name": "stdout",
     "output_type": "stream",
     "text": [
      "red--yellow--blue\n",
      "<class 'str'>\n",
      "['red', 'yellow', 'blue']\n"
     ]
    }
   ],
   "source": [
    "colors=['red','yellow','blue']\n",
    "newcolors=\"--\".join(colors1)\n",
    "print(newcolors)\n",
    "print(type(newcolors))\n",
    "newcolors2=newcolors.split(\"--\")\n",
    "print(newcolors2)"
   ]
  },
  {
   "cell_type": "code",
   "execution_count": 23,
   "id": "2bc7b4f0",
   "metadata": {
    "scrolled": true
   },
   "outputs": [
    {
     "name": "stdout",
     "output_type": "stream",
     "text": [
      "['red', 'yellow', 'blue', 'white']\n",
      "['white', 'blue', 'yellow', 'red']\n",
      "['blue', 'red', 'white', 'yellow']\n",
      "['yellow', 'white', 'red', 'blue']\n"
     ]
    }
   ],
   "source": [
    "colors=['red','yellow','blue','white','black']\n",
    "colors.pop()\n",
    "print(colors)\n",
    "colors.reverse()\n",
    "print(colors)\n",
    "\n",
    "colors.sort()\n",
    "print(colors)\n",
    "colors.sort(reverse=True)\n",
    "print(colors)"
   ]
  },
  {
   "cell_type": "code",
   "execution_count": 25,
   "id": "3ec4ee11",
   "metadata": {},
   "outputs": [
    {
     "name": "stdout",
     "output_type": "stream",
     "text": [
      "3 65 147\n"
     ]
    }
   ],
   "source": [
    "numbers=[3,4,65,32,5,6,25,7]\n",
    "print(min(numbers),max(numbers),sum(numbers))"
   ]
  },
  {
   "cell_type": "code",
   "execution_count": 32,
   "id": "b9c20ccf",
   "metadata": {},
   "outputs": [
    {
     "name": "stdout",
     "output_type": "stream",
     "text": [
      "[(0, 'red'), (1, 'yellow'), (2, 'blue'), (3, 'white'), (4, 'black')]\n",
      "[(3, 'red'), (4, 'yellow'), (5, 'blue'), (6, 'white'), (7, 'black')]\n"
     ]
    }
   ],
   "source": [
    "colors=['red','yellow','blue','white','black']\n",
    "print(list(enumerate(colors))) # numaralandırıyor\n",
    "print(list(enumerate(colors,start=3)))"
   ]
  },
  {
   "cell_type": "code",
   "execution_count": 33,
   "id": "7c66ae13",
   "metadata": {},
   "outputs": [
    {
     "name": "stdout",
     "output_type": "stream",
     "text": [
      "True\n"
     ]
    }
   ],
   "source": [
    "colors=['red','yellow','blue','white','black']\n",
    "print('black' in colors)"
   ]
  },
  {
   "cell_type": "code",
   "execution_count": 47,
   "id": "0f54389a",
   "metadata": {
    "scrolled": true
   },
   "outputs": [
    {
     "ename": "TypeError",
     "evalue": "'tuple' object does not support item assignment",
     "output_type": "error",
     "traceback": [
      "\u001b[1;31m---------------------------------------------------------------------------\u001b[0m",
      "\u001b[1;31mTypeError\u001b[0m                                 Traceback (most recent call last)",
      "Cell \u001b[1;32mIn[47], line 3\u001b[0m\n\u001b[0;32m      1\u001b[0m \u001b[38;5;66;03m# Tuple (demet) nesne ekleyip çıkarmayı desteklemez. Nasıl oluşturulduysa öyle kalır.\u001b[39;00m\n\u001b[0;32m      2\u001b[0m demet\u001b[38;5;241m=\u001b[39m(\u001b[38;5;124m\"\u001b[39m\u001b[38;5;124msarı\u001b[39m\u001b[38;5;124m\"\u001b[39m,\u001b[38;5;124m\"\u001b[39m\u001b[38;5;124mkırmızı\u001b[39m\u001b[38;5;124m\"\u001b[39m)\n\u001b[1;32m----> 3\u001b[0m demet[\u001b[38;5;241m1\u001b[39m]\u001b[38;5;241m=\u001b[39m\u001b[38;5;124m'\u001b[39m\u001b[38;5;124mpembe\u001b[39m\u001b[38;5;124m'\u001b[39m\n",
      "\u001b[1;31mTypeError\u001b[0m: 'tuple' object does not support item assignment"
     ]
    }
   ],
   "source": [
    "# Tuple (demet) nesne ekleyip çıkarmayı desteklemez. Nasıl oluşturulduysa öyle kalır.\n",
    "# Listeyi değiştiren komutlar demetlerde yok.\n",
    "demet=(\"sarı\",\"kırmızı\")\n",
    "demet[1]='pembe'"
   ]
  },
  {
   "cell_type": "code",
   "execution_count": 4,
   "id": "089d8e35",
   "metadata": {
    "scrolled": true
   },
   "outputs": [
    {
     "name": "stdout",
     "output_type": "stream",
     "text": [
      "<class 'set'>\n",
      "{'mavi', 'kırmızı', 'pembe', 'yeşil'}\n"
     ]
    }
   ],
   "source": [
    "# Set (küme)\n",
    "# kümeler sırasız bir veri yapısıdır. Kümeye elemanları hangi sırayla eklediğinin önemi yok.\n",
    "kume={'sarı','kırmızı','mavi','yeşil'}\n",
    "print(type(kume))\n",
    "kume.remove('sarı')\n",
    "#kume.remove('gri') # kümede olmadığı için hata verir.\n",
    "kume.discard('gri') # kümede varsa çıkarır, yoksa da hata vermez.\n",
    "kume.add('pembe')\n",
    "print(kume)"
   ]
  },
  {
   "cell_type": "code",
   "execution_count": 8,
   "id": "5c1467cd",
   "metadata": {},
   "outputs": [
    {
     "name": "stdout",
     "output_type": "stream",
     "text": [
      "{'kırmızı', 'sarı'}\n",
      "{'sarı', 'mavi', 'kırmızı', 'yeşil', 'gri', 'beyaz'}\n",
      "{'yeşil', 'mavi'}\n",
      "True\n"
     ]
    }
   ],
   "source": [
    "kume1={'sarı','kırmızı','mavi','yeşil'}\n",
    "kume2={'sarı','kırmızı','beyaz','gri'}\n",
    "print(kume1.intersection(kume2))\n",
    "print(kume1.union(kume2))\n",
    "print(kume1.difference(kume2))\n",
    "print(\"sarı\" in kume1)"
   ]
  },
  {
   "cell_type": "code",
   "execution_count": 11,
   "id": "7ecff51a",
   "metadata": {
    "scrolled": true
   },
   "outputs": [
    {
     "name": "stdout",
     "output_type": "stream",
     "text": [
      "{'p', 't', 'o', 'n', 'h', 'y'}\n",
      "{1, 2, 3, 4, 5}\n"
     ]
    }
   ],
   "source": [
    "bosliste1=[]\n",
    "bosliste2=list()\n",
    "\n",
    "bosdemet1=()\n",
    "bosdemet2=tuple()\n",
    "\n",
    "boskume=set()\n",
    "dictionary={} # bu kullanım küme değil, sözlük verir.\n",
    "\n",
    "kume1=set(\"python\") #set içeriği parçalayarak kümeye çevirir.\n",
    "kume2=set([1,2,3,4,5])\n",
    "print(kume1)\n",
    "print(kume2)"
   ]
  },
  {
   "cell_type": "code",
   "execution_count": 1,
   "id": "f2ab9d19",
   "metadata": {
    "scrolled": true
   },
   "outputs": [
    {
     "name": "stdout",
     "output_type": "stream",
     "text": [
      "ali\n",
      "ahmet\n",
      "{'isim': 'mehmet', 'yas': 30, 'hobiler': ['sinema', 'konser'], 'id': 1572}\n",
      "{'isim': 'mehmet', 'yas': 30, 'hobiler': ['sinema', 'konser']}\n"
     ]
    }
   ],
   "source": [
    "kisi={\"isim\":\"ali\",\"yas\":20,\"hobiler\":[\"sinema\",\"konser\"]}\n",
    "#key (anahtar) string veya integer olmalı\n",
    "#value (değer) her şey olabilir (string, dict,küme,..)\n",
    "print(kisi[\"isim\"])\n",
    "kisi[\"isim\"]=\"ahmet\" #bir anahtarı güncelllemek için\n",
    "print(kisi[\"isim\"])\n",
    "\n",
    "kisi.update({\"isim\":\"mehmet\",\"yas\":30}) #aynı anda birden fazla anahtarı güncellemek için\n",
    "\n",
    "kisi[\"id\"]=1572 #yeni anahtar eklemek\n",
    "print(kisi)\n",
    "del kisi[\"id\"] #değer silmek\n",
    "print(kisi)"
   ]
  },
  {
   "cell_type": "code",
   "execution_count": 15,
   "id": "439f82c3",
   "metadata": {},
   "outputs": [
    {
     "name": "stdout",
     "output_type": "stream",
     "text": [
      "isim\n",
      "yas\n",
      "hobiler\n",
      "\n",
      "ali\n",
      "20\n",
      "['sinema', 'konser']\n",
      "\n",
      "isim ali\n",
      "yas 20\n",
      "hobiler ['sinema', 'konser']\n",
      "\n",
      "dict_keys(['isim', 'yas', 'hobiler'])\n",
      "dict_values(['ali', 20, ['sinema', 'konser']])\n",
      "dict_items([('isim', 'ali'), ('yas', 20), ('hobiler', ['sinema', 'konser'])])\n"
     ]
    }
   ],
   "source": [
    "kisi={\"isim\":\"ali\",\"yas\":20,\"hobiler\":[\"sinema\",\"konser\"]}\n",
    "for x in kisi:\n",
    "    print (x) \n",
    "print(\"\")\n",
    "\n",
    "for x in kisi:\n",
    "    print(kisi[x])\n",
    "print(\"\")\n",
    "\n",
    "for k,v in kisi.items(): #items ikili değer döndürür\n",
    "    print(k,v)\n",
    "print(\"\")\n",
    "\n",
    "print(kisi.keys())\n",
    "print(kisi.values())\n",
    "print(kisi.items())"
   ]
  },
  {
   "cell_type": "code",
   "execution_count": 19,
   "id": "9d14e4b1",
   "metadata": {
    "scrolled": true
   },
   "outputs": [
    {
     "name": "stdout",
     "output_type": "stream",
     "text": [
      "None\n",
      "Bulunamadı\n"
     ]
    }
   ],
   "source": [
    "kisi={\"isim\":\"ali\",\"yas\":20,\"hobiler\":[\"sinema\",\"konser\"]}\n",
    " # print(kisi[\"id\"]) #id bulumadığı için hata verir.\n",
    "print(kisi.get(\"id\")) # farkı eleman yoksa None değer göstermesi\n",
    "print(kisi.get(\"id\",\"Bulunamadı\")) #ikinci parametre aradığım değer yoksa vermek istediğim mesaj"
   ]
  },
  {
   "cell_type": "code",
   "execution_count": 6,
   "id": "e8b1fbce",
   "metadata": {
    "scrolled": true
   },
   "outputs": [
    {
     "name": "stdout",
     "output_type": "stream",
     "text": [
      "2\n",
      "4\n"
     ]
    }
   ],
   "source": [
    "for i in range(2,10):\n",
    "    if i == 3:\n",
    "        continue\n",
    "    if i == 5:\n",
    "        break\n",
    "    print(i)"
   ]
  },
  {
   "cell_type": "code",
   "execution_count": 10,
   "id": "30189a29",
   "metadata": {
    "scrolled": true
   },
   "outputs": [
    {
     "name": "stdout",
     "output_type": "stream",
     "text": [
      "Bir sayı giriniz: 5\n",
      "5! = 120\n"
     ]
    }
   ],
   "source": [
    "sayi=int(input(\"Bir sayı giriniz: \"))\n",
    "faktoriyel=1\n",
    "for i in range(1,sayi+1):\n",
    "    faktoriyel*=i\n",
    "print(f\"{sayi}! = {faktoriyel}\")"
   ]
  },
  {
   "cell_type": "code",
   "execution_count": 12,
   "id": "a3a4bac6",
   "metadata": {
    "scrolled": true
   },
   "outputs": [
    {
     "name": "stdout",
     "output_type": "stream",
     "text": [
      "Bir metin giriniz: banana\n",
      "b 1\n",
      "a 3\n",
      "n 2\n"
     ]
    }
   ],
   "source": [
    "metin=input(\"Bir metin giriniz: \")\n",
    "sozluk=dict()\n",
    "for harf in metin:\n",
    "    if harf in sozluk:\n",
    "        sozluk[harf]+=1\n",
    "    else:\n",
    "        sozluk[harf]=1\n",
    "for harf,adet in sozluk.items():\n",
    "    print(harf,adet)"
   ]
  },
  {
   "cell_type": "markdown",
   "id": "940981b3",
   "metadata": {},
   "source": [
    "<div style=\"text-align: center;\">\n",
    "<font face=\"Courier New\" color=\"#f2f068\" size=\"4\"><b>\n",
    "    MODÜLLER"
   ]
  },
  {
   "cell_type": "code",
   "execution_count": 15,
   "id": "a98f0d24",
   "metadata": {
    "scrolled": true
   },
   "outputs": [
    {
     "name": "stdout",
     "output_type": "stream",
     "text": [
      "120\n"
     ]
    }
   ],
   "source": [
    " # Modüller\n",
    "import math\n",
    "sonuc=math.factorial(5)\n",
    "print(sonuc)\n",
    "\n",
    "from math import factorial as fct #Tüm modülünü import etmeyip sadece belli bir fonksiyonu kullanmak için\n",
    "# modülün fct olarak çağrılmasını sağlıyor.\n",
    "\n",
    "from math import * # math içindeki fonksiyonları kullanabilirsin"
   ]
  },
  {
   "cell_type": "markdown",
   "id": "3d70c526",
   "metadata": {},
   "source": [
    "<font face=\"Courier New\" color=\"lightgreen\" size=\"4\"><b>\n",
    "    Random Modülü"
   ]
  },
  {
   "cell_type": "code",
   "execution_count": 21,
   "id": "b31c65af",
   "metadata": {},
   "outputs": [
    {
     "name": "stdout",
     "output_type": "stream",
     "text": [
      "0.9318320919554564\n",
      "0.9983251899491397\n",
      "0.6051916576205554\n",
      "0.4790610503897186\n",
      "0.39628949847506\n"
     ]
    }
   ],
   "source": [
    "import random\n",
    "for i in range(5):\n",
    "    print(random.random()) # 0-1 arası sayılar üretmek için"
   ]
  },
  {
   "cell_type": "code",
   "execution_count": 20,
   "id": "e87e10b3",
   "metadata": {
    "scrolled": true
   },
   "outputs": [
    {
     "name": "stdout",
     "output_type": "stream",
     "text": [
      "14.187013245734343\n",
      "18.59747659882426\n",
      "15.853887781853715\n",
      "10.471452890254598\n",
      "10.553669170716867\n"
     ]
    }
   ],
   "source": [
    "for i in range(5):\n",
    "    print(random.uniform(10,20)) #Belirlediğimiz aralıkta sayılar üretme"
   ]
  },
  {
   "cell_type": "code",
   "execution_count": 22,
   "id": "ca2f96c8",
   "metadata": {},
   "outputs": [
    {
     "name": "stdout",
     "output_type": "stream",
     "text": [
      "1\n",
      "3\n",
      "5\n",
      "5\n",
      "1\n"
     ]
    }
   ],
   "source": [
    "for i in range(5):\n",
    "    print(random.randint(1,5)) # üst sınır dahil olmak üzere tam sayı üretir"
   ]
  },
  {
   "cell_type": "code",
   "execution_count": 25,
   "id": "e686ac30",
   "metadata": {},
   "outputs": [
    {
     "name": "stdout",
     "output_type": "stream",
     "text": [
      "4\n",
      "1\n",
      "4\n",
      "4\n",
      "7\n"
     ]
    }
   ],
   "source": [
    "for i in range(5):\n",
    "    print(random.randrange(1,10,3)) # (start,end,interval)"
   ]
  },
  {
   "cell_type": "code",
   "execution_count": 41,
   "id": "a07d00c2",
   "metadata": {},
   "outputs": [
    {
     "name": "stdout",
     "output_type": "stream",
     "text": [
      "kırmızı\n",
      "['siyah', 'beyaz', 'kırmızı', 'sarı', 'mavi']\n",
      "['siyah', 'sarı', 'mavi', 'beyaz', 'kırmızı']\n",
      "['mavi', 'siyah']\n"
     ]
    }
   ],
   "source": [
    "liste=[\"siyah\",\"beyaz\",\"kırmızı\",\"sarı\",\"mavi\"]\n",
    "print(random.choice(liste)) # rastgele bir elemen seçer.\n",
    "print(liste)\n",
    "random.shuffle(liste) #listedeki elemanları karar.\n",
    "print(liste)\n",
    "print(random.sample(liste,2)) # Listeden istenilen miktarada eleman seçer."
   ]
  },
  {
   "cell_type": "code",
   "execution_count": 65,
   "id": "5d7e3105",
   "metadata": {},
   "outputs": [
    {
     "name": "stdout",
     "output_type": "stream",
     "text": [
      "1 gelme olasılığı: 0.1642\n",
      "2 gelme olasılığı: 0.1645\n",
      "3 gelme olasılığı: 0.1685\n",
      "4 gelme olasılığı: 0.1694\n",
      "5 gelme olasılığı: 0.1671\n",
      "6 gelme olasılığı: 0.1663\n"
     ]
    }
   ],
   "source": [
    "zarlar={1:0,2:0,3:0,4:0,5:0,6:0}\n",
    "for i in range (10000):\n",
    "    zar=random.randint(1,6)\n",
    "    zarlar[zar]+=1\n",
    "for zar in zarlar:\n",
    "    print(f\"{zar} gelme olasılığı: {zarlar[zar]/10000}\")"
   ]
  },
  {
   "cell_type": "markdown",
   "id": "cdbc1a07",
   "metadata": {},
   "source": [
    "<font face=\"Courier New\" color=\"lightgreen\" size=\"3\"><b>Time Modülü"
   ]
  },
  {
   "cell_type": "code",
   "execution_count": 82,
   "id": "740de25c",
   "metadata": {},
   "outputs": [
    {
     "name": "stdout",
     "output_type": "stream",
     "text": [
      "1708268387.0458457\n"
     ]
    }
   ],
   "source": [
    "import time\n",
    "zaman=time.time() # 1 Ocak 1970'den beri geçen zaman\n",
    "print(zaman)"
   ]
  },
  {
   "cell_type": "code",
   "execution_count": 70,
   "id": "f9c13f2c",
   "metadata": {},
   "outputs": [
    {
     "name": "stdout",
     "output_type": "stream",
     "text": [
      "0.014005422592163086\n"
     ]
    }
   ],
   "source": [
    "# Hangi algoritmanın daha hızlı çalıştığını bulmak\n",
    "initialTime=time.time()\n",
    "liste=[]\n",
    "for i in range(100000): #bu kısımda süresini ölçmek istediğin işlem\n",
    "    liste.append(i)\n",
    "endTime=time.time()\n",
    "print(endTime-initialTime)"
   ]
  },
  {
   "cell_type": "code",
   "execution_count": 75,
   "id": "096dcac2",
   "metadata": {},
   "outputs": [
    {
     "name": "stdout",
     "output_type": "stream",
     "text": [
      "Sun Feb 18 17:02:59 2024\n",
      "Thu Jan  1 03:01:40 1970\n",
      "<class 'str'>\n"
     ]
    }
   ],
   "source": [
    "zaman=time.ctime() #şu anki zaman\n",
    "print(zaman)\n",
    "\n",
    "gelecek_zaman=time.ctime(100) #başlangıç zamanından 100sn geçerse zaman\n",
    "print(gelecek_zaman)\n",
    "print(type(gelecek_zaman))"
   ]
  },
  {
   "cell_type": "code",
   "execution_count": 78,
   "id": "53ae50e5",
   "metadata": {},
   "outputs": [
    {
     "name": "stdout",
     "output_type": "stream",
     "text": [
      "time.struct_time(tm_year=2024, tm_mon=2, tm_mday=18, tm_hour=17, tm_min=4, tm_sec=1, tm_wday=6, tm_yday=49, tm_isdst=0)\n"
     ]
    }
   ],
   "source": [
    "zaman=time.localtime() #zamanı ayırarak veriyor\n",
    "print(zaman)"
   ]
  },
  {
   "cell_type": "code",
   "execution_count": 79,
   "id": "b8f5d75a",
   "metadata": {},
   "outputs": [
    {
     "name": "stdout",
     "output_type": "stream",
     "text": [
      "Sun Feb 18 17:04:47 2024\n"
     ]
    }
   ],
   "source": [
    "zaman=time.asctime()\n",
    "print(zaman)"
   ]
  },
  {
   "cell_type": "code",
   "execution_count": 88,
   "id": "acb8a1b1",
   "metadata": {},
   "outputs": [
    {
     "name": "stdout",
     "output_type": "stream",
     "text": [
      "18:02\n",
      "18/02/2024, 18:01:23\n"
     ]
    }
   ],
   "source": [
    "zaman=time.strftime(\"%d:%m\") # strftime en kullanışlı time fonksiyonlarından biri\n",
    "print(zaman)\n",
    "\n",
    "date_time=time.strftime(\"%d/%m/%Y, %H:%M:%S\")\n",
    "print(date_time)"
   ]
  },
  {
   "cell_type": "code",
   "execution_count": 90,
   "id": "6102d874",
   "metadata": {},
   "outputs": [
    {
     "name": "stdout",
     "output_type": "stream",
     "text": [
      "Program başlatıldı.\n",
      "Program sonlandı.\n"
     ]
    }
   ],
   "source": [
    "print(\"Program başlatıldı.\")\n",
    "time.sleep(1.5) # progrmaın belirli bir süre uyumasını sağlıyor.\n",
    "print(\"Program sonlandı.\")"
   ]
  },
  {
   "cell_type": "markdown",
   "id": "b2b568e7",
   "metadata": {},
   "source": [
    "<font face=\"Courier New\" color=\"lightgreen\" size=\"3\"><b>Datetime Modülü"
   ]
  },
  {
   "cell_type": "code",
   "execution_count": 105,
   "id": "c9e79f89",
   "metadata": {},
   "outputs": [
    {
     "name": "stdout",
     "output_type": "stream",
     "text": [
      "<class 'datetime.date'>\n",
      "2024-02-18\n",
      "18\n",
      "2015-08-13\n",
      "3\n",
      "3111 days, 0:00:00\n"
     ]
    }
   ],
   "source": [
    "from datetime import date\n",
    "bugun=date.today()\n",
    "print(type(bugun))\n",
    "print(bugun)\n",
    "print(bugun.day)\n",
    "\n",
    "gecmis_tarih=date(2015,8,13) # fonksiyonları kullanmak için böyle tanımlıyoruz\n",
    "print(gecmis_tarih)\n",
    "print(gecmis_tarih.weekday()) # perşembe günü (ptesi 0)\n",
    "\n",
    "gecen_zaman=bugun-gecmis_tarih\n",
    "print(gecen_zaman)"
   ]
  },
  {
   "cell_type": "code",
   "execution_count": 125,
   "id": "d07e2079",
   "metadata": {},
   "outputs": [
    {
     "name": "stdout",
     "output_type": "stream",
     "text": [
      "2024-02-18 19:39:26.669397\n",
      "19:39:26.669397\n",
      "2\n",
      "2\n",
      "Sun Feb 18 19:39:26 2024\n"
     ]
    }
   ],
   "source": [
    "from datetime import datetime\n",
    "\n",
    "suan = datetime.now()\n",
    "print(suan)\n",
    "print(suan.time())\n",
    "print(suan.month)\n",
    "print(suan.date().month)\n",
    "print(datetime.ctime(suan))"
   ]
  },
  {
   "cell_type": "markdown",
   "id": "a111d788",
   "metadata": {},
   "source": [
    "<b>import datetime:</b> Bu ifade, datetime modülünü içe aktarır. Bu durumda, modül adını kullanarak erişebilirsiniz, örneğin datetime.datetime.now() şeklinde kullanabilirsiniz. Bu şekilde, modül adı ile birlikte fonksiyonları çağırırsınız.\n",
    "\n",
    "<b>from datetime import datetime:</b> Bu ifade, datetime modülünden sadece datetime adlı belirli bir sınıfı (ya da fonksiyonu, sınıfı veya değişkeni) içe aktarır. Bu şekilde, modül adını kullanmadan doğrudan datetime.now() gibi çağrı yapabilirsiniz."
   ]
  },
  {
   "cell_type": "code",
   "execution_count": 120,
   "id": "13a6e71c",
   "metadata": {},
   "outputs": [
    {
     "name": "stdout",
     "output_type": "stream",
     "text": [
      "2024-02-18 19:27:32.481680\n"
     ]
    }
   ],
   "source": [
    "import datetime\n",
    "\n",
    "suan = datetime.datetime.now()\n",
    "print(suan)"
   ]
  },
  {
   "cell_type": "code",
   "execution_count": 128,
   "id": "017ff52b",
   "metadata": {
    "scrolled": false
   },
   "outputs": [
    {
     "name": "stdout",
     "output_type": "stream",
     "text": [
      "171\n"
     ]
    }
   ],
   "source": [
    "# Her ayın ilk gününün kaç kere pazar gününe denk geldiğini bulma\n",
    "from datetime import datetime\n",
    "pazarsayisi=0\n",
    "for year in range(1901,2001):\n",
    "    for month in range(1,13):\n",
    "        if datetime(year,month,1).weekday()==6:\n",
    "            pazarsayisi+=1\n",
    "print(pazarsayisi)"
   ]
  },
  {
   "cell_type": "markdown",
   "id": "7b0c0b8e",
   "metadata": {},
   "source": [
    "<font face=\"Courier New\" color=\"lightgreen\" size=\"3\"><b>Os Modülü"
   ]
  },
  {
   "cell_type": "code",
   "execution_count": 152,
   "id": "5407d973",
   "metadata": {},
   "outputs": [
    {
     "name": "stdout",
     "output_type": "stream",
     "text": [
      "C:\\Users\\toygar\\Desktop\n",
      "C:\\Users\\toygar\n",
      "['-1.14-windows.xml', '.anaconda', '.android', '.conda', '.condarc', '.continuum', '.ipynb_checkpoints', '.ipython', '.jupyter', '.matplotlib', '.ms-ad', '.thumbnails', '3D Objects', 'adult.csv', 'anaconda3', 'AppData', 'Application Data', 'Belgelerim', 'Characters.csv', 'Contacts', 'Cookies', 'deneme.txt', 'Desktop', 'Documents', 'Downloads', 'Ecommerce Purchases', 'Favorites', 'fifa_data.csv', 'file.csv', 'gas_prices.csv', 'Harry Potter 1.csv', 'Harry Potter 2.csv', 'Harry Potter 3.csv', 'Harry Potter.ipynb', 'lab_jupyter_launch_site_location.ipynb', 'Links', 'Local Settings', 'Matplotlib.ipynb', 'Microsoft', 'Music', 'mygraph.png', 'Netflix.ipynb', 'netflix_titles.csv', 'NetHood', 'NTUSER.DAT', 'ntuser.dat.LOG1', 'ntuser.dat.LOG2', 'NTUSER.DAT{53b39e88-18c4-11ea-a811-000d3aa4692b}.TM.blf', 'NTUSER.DAT{53b39e88-18c4-11ea-a811-000d3aa4692b}.TMContainer00000000000000000001.regtrans-ms', 'NTUSER.DAT{53b39e88-18c4-11ea-a811-000d3aa4692b}.TMContainer00000000000000000002.regtrans-ms', 'ntuser.ini', 'NYC_Jobs.csv', 'OneDrive', 'Pictures', 'Placement.csv', 'Pokemon.csv', 'Pokemon.ipynb', 'Potions.csv', 'PRICES-STOCK.csv', 'PrintHood', 'PRODUCTS.csv', 'Project Case Boston Housing Data.ipynb', 'Prpject 1&2.ipynb', 'PyCon 2019.ipynb', 'Python Eğitim Seti.ipynb', 'Recent', 'Salaries.csv', 'Saved Games', 'Seaborn.ipynb', 'Searches', 'SendTo', 'source', 'Spells.csv', 'SQL SERVER 2019', 'Start Menu', 'supermarket_sales.xlsx', 'ted.csv', 'Templates', 'Tracing', 'Untitled.ipynb', 'Untitled1.ipynb', 'Untitled2.ipynb', 'Untitled3.ipynb', 'Untitled4.ipynb', 'Untitled5.ipynb', 'Untitled6.ipynb', 'Videos', 'WebScraping_Review_Lab.ipynb']\n"
     ]
    }
   ],
   "source": [
    "import os\n",
    "print(os.getcwd()) # aktif dizini gösterir\n",
    "#os.chdir(\"C:\\\\Users\\\\toygar\\\\Desktop\") #change directory\n",
    "os.chdir(r\"C:\\Users\\toygar\\Desktop\") #change directory, other witing style\n",
    "print(os.getcwd())\n",
    "print(os.listdir()) # klasörün içeriğini göster\n",
    "#print(os.listdir(r\"C:\\Users\\toygar\\Downloads\"))\n",
    "# for dosya in os.listdir():\n",
    "#     print(dosya)\n",
    "\n",
    "# os.mkdir(\"Deneme Klasörü\") #klasör oluşturmak için"
   ]
  },
  {
   "cell_type": "markdown",
   "id": "94606e13",
   "metadata": {},
   "source": [
    "<div style=\"text-align: center;\">\n",
    "<font face=\"Courier New\" color=\"#f2f068\" size=\"4\"><b>Dosya İşlemleri"
   ]
  },
  {
   "cell_type": "code",
   "execution_count": 157,
   "id": "3ba5bac8",
   "metadata": {},
   "outputs": [
    {
     "name": "stdout",
     "output_type": "stream",
     "text": [
      "Dozens of actors from the United Kingdom and Ireland portrayed or voiced characters appearing in the Harry Potter film series based on the book series by J. K. Rowling. In all the films, Daniel Radcliffe played Harry Potter, Rupert Grint played Ron Weasley and Emma Watson played Hermione Granger. When they were cast only Radcliffe had previously acted in a film.[1] Complementing them on screen are such actors as Helena Bonham Carter, Jim Broadbent, John Cleese, Robbie Coltrane, Warwick Davis, Ralph Fiennes, Michael Gambon, Brendan Gleeson, Richard Griffiths, Richard Harris, John Hurt, Jason Isaacs, Miriam Margolyes, Helen McCrory, Gary Oldman, Alan Rickman, Fiona Shaw, Maggie Smith, Timothy Spall, Imelda Staunton, David Thewlis, Emma Thompson, and Julie Walters, among others. Thirteen actors appeared as the same character in all eight films of the series.[2]\n"
     ]
    }
   ],
   "source": [
    "f=open(\"deneme.txt\",\"r\") #1.parametre dosyanın yolu, 2.parametre r: read mode, w: write mode, r+: okuma ve yazma\n",
    "icerik=f.read()\n",
    "print(icerik)\n",
    "f.close() #açtığın dosyayı kapatmazsan hafızada yer tutmaya devam eder."
   ]
  },
  {
   "cell_type": "code",
   "execution_count": 163,
   "id": "0b81a428",
   "metadata": {
    "scrolled": true
   },
   "outputs": [
    {
     "name": "stdout",
     "output_type": "stream",
     "text": [
      "Dozens of actors from the United Kingdom and Ireland portrayed or voiced characters appearing in the Harry Potter film series based on the book series by J. K. Rowling. \n",
      "\n",
      "In all the films, Daniel Radcliffe played Harry Potter, Rupert Grint played Ron Weasley and Emma Watson played Hermione Granger. \n",
      "\n",
      "When they were cast only Radcliffe had previously acted in a film.\n",
      "\n",
      "Complementing them on screen are such actors as Helena Bonham Carter, Jim Broadbent, John Cleese, Robbie Coltrane, Warwick Davis, Ralph Fiennes, Michael Gambon, Brendan Gleeson, Richard Griffiths, Richard Harris, John Hurt, Jason Isaacs, Miriam Margolyes, Helen McCrory, Gary Oldman, Alan Rickman, Fiona Shaw, Maggie Smith, Timothy Spall, Imelda Staunton, David Thewlis, Emma Thompson, and Julie Walters, among others. Thirteen actors appeared as the same character in all eight films of the series.[2]\n"
     ]
    }
   ],
   "source": [
    "with open(\"deneme.txt\") as f:\n",
    "    icerik = f.readlines() # böyle yapınca kendisi otomatik kapatıyor.\n",
    "#     print(icerik)\n",
    "    for satir in icerik:\n",
    "        print(satir) #aradaki boşlukları kaldırmak için print(satir,end=\"\")"
   ]
  },
  {
   "cell_type": "markdown",
   "id": "c4a513de",
   "metadata": {},
   "source": [
    "<div style=\"text-align: center;\">\n",
    "<font face=\"Courier New\" color=\"#f2f068\" size=\"4\"><b>List Comprehension"
   ]
  },
  {
   "cell_type": "code",
   "execution_count": 173,
   "id": "478b6981",
   "metadata": {},
   "outputs": [
    {
     "name": "stdout",
     "output_type": "stream",
     "text": [
      "[1, 2, 3, 4, 5, 6, 7, 8, 9]\n",
      "[1, 2, 3, 4, 5, 6, 7, 8, 9]\n",
      "[1, 4, 9, 16, 25, 36, 49, 64, 81]\n",
      "[6, 8]\n"
     ]
    }
   ],
   "source": [
    "numbers=[1,2,3,4,5,6,7,8,9]\n",
    "#Listedeki rakamlardan oluşan liste oluşturma\n",
    "list1=[]\n",
    "for number in numbers:\n",
    "    list1.append(number)\n",
    "print(list1)\n",
    "\n",
    "list2=[number for number in numbers]\n",
    "print(list2)\n",
    "\n",
    "#Listedeki rakamların karelerinden oluşan liste oluşturma\n",
    "list3=[number*number for number in numbers]\n",
    "print(list3)\n",
    "\n",
    "#Listedeki 4ten büyük çift rakamlardan oluşan bir liste oluşturma\n",
    "list4=[number for number in numbers if number %2 ==0 and number >4]\n",
    "print(list4)"
   ]
  },
  {
   "cell_type": "code",
   "execution_count": 175,
   "id": "969c85cf",
   "metadata": {},
   "outputs": [
    {
     "name": "stdout",
     "output_type": "stream",
     "text": [
      "[(1, 'a'), (1, 'b'), (1, 'c'), (1, 'd'), (2, 'a'), (2, 'b'), (2, 'c'), (2, 'd'), (3, 'a'), (3, 'b'), (3, 'c'), (3, 'd'), (4, 'a'), (4, 'b'), (4, 'c'), (4, 'd')]\n"
     ]
    }
   ],
   "source": [
    "numbers=[1,2,3,4]\n",
    "letters=\"abcd\"\n",
    "# ikililerden oluşan bir liste oluşturma\n",
    "list1=[(number,letter) for number in numbers for letter in letters]\n",
    "print(list1)"
   ]
  },
  {
   "cell_type": "code",
   "execution_count": 183,
   "id": "ae4ed006",
   "metadata": {},
   "outputs": [
    {
     "name": "stdout",
     "output_type": "stream",
     "text": [
      "[36, 49, 64, 81]\n",
      "[36, 49, 64, 81]\n"
     ]
    }
   ],
   "source": [
    "list1=[1,2,3,4,5,6,7,8,9]\n",
    "list2=[1,2,3,4,5]\n",
    "#1.listede bulunup ikinci listede bulunmayan rakamların karesinden oluşan bir liste oluşturma\n",
    "list3=[]\n",
    "for number in list1:\n",
    "    if number not in list2:\n",
    "        list3.append(number*number)\n",
    "print(list3)\n",
    "\n",
    "list4=[number*number for number in list1 if number not in list2] #aynı mantık\n",
    "print(list4)"
   ]
  },
  {
   "cell_type": "code",
   "execution_count": null,
   "id": "59caa24a",
   "metadata": {},
   "outputs": [],
   "source": []
  },
  {
   "cell_type": "code",
   "execution_count": 184,
   "id": "749337e3",
   "metadata": {
    "scrolled": true
   },
   "outputs": [
    {
     "name": "stdout",
     "output_type": "stream",
     "text": [
      "[1, 2, 3, 4, 5, 6, 7, 8, 9]\n"
     ]
    }
   ],
   "source": [
    "list1=[[1,2,3],[4,5,6],[7,8,9]]\n",
    "#elemanları tek tek alan bir liste\n",
    "list2=[j for i in list1 for j in i] # i list1'in elemanları, j o elemanların elemanları\n",
    "print(list2)"
   ]
  },
  {
   "cell_type": "markdown",
   "id": "6ebf45fc",
   "metadata": {},
   "source": [
    "<div style=\"text-align: center;\">\n",
    "<font face=\"Courier New\" color=\"#f2f068\" size=\"4\"><b>Try - Except"
   ]
  },
  {
   "cell_type": "code",
   "execution_count": 212,
   "id": "de3451dd",
   "metadata": {},
   "outputs": [
    {
     "name": "stdout",
     "output_type": "stream",
     "text": [
      "5\n",
      "2\n",
      "2.5\n",
      "Finally bloğu hep çalışır.\n"
     ]
    }
   ],
   "source": [
    "#Program hata olsa bile kendini sonlandırmasın\n",
    "try: #try'da hata olmazsa except'i atlar.\n",
    "    a=5\n",
    "    b=2 # 0 veya bir sayı yap.\n",
    "    c=a/b\n",
    "    d=7 # x gibi tanımsız bir değer veya sayı yap\n",
    "    isim=\"Ali\"\n",
    "    karakter=isim[1] #indexe 3ten az veya fazla bişey yaz\n",
    "except ZeroDivisionError:\n",
    "    print(\"Payda sıfır olmamalı.\")\n",
    "except NameError:\n",
    "    print(\"Değişken tanımlanmamış.\")\n",
    "except IndexError:\n",
    "    print(\"Böyle bir index bulunmuyor.\")\n",
    "except Exception: # en son ihtimalde\n",
    "    print(\"Bilinmeyen bir hata oluştu.\")\n",
    "else: #try bloğunun içinde hata çıkmadığı durumda çalışır.\n",
    "    print(a)\n",
    "    print(b)\n",
    "    print(c)\n",
    "finally: # hata olsa da olmasa da çalışır.\n",
    "    print(\"Finally bloğu hep çalışır.\")"
   ]
  },
  {
   "cell_type": "markdown",
   "id": "5c3d8882",
   "metadata": {},
   "source": [
    "<div style=\"text-align: center;\">\n",
    "<font face=\"Courier New\" color=\"#f2f068\" size=\"4\"><b>\n",
    "    CLASS"
   ]
  },
  {
   "attachments": {
    "image.png": {
     "image/png": "[encoded data removed]"
    }
   },
   "cell_type": "markdown",
   "id": "7fd481e0",
   "metadata": {},
   "source": [
    "![image.png](attachment:image.png)"
   ]
  },
  {
   "cell_type": "markdown",
   "id": "04db9009",
   "metadata": {},
   "source": []
  },
  {
   "cell_type": "code",
   "execution_count": 224,
   "id": "a849bdc0",
   "metadata": {},
   "outputs": [
    {
     "name": "stdout",
     "output_type": "stream",
     "text": [
      "Ad: Ahmet \n",
      "Soyad: Cevizkabuğu \n",
      "Yaş: 32\n",
      "\n",
      "Ad: Mehmet \n",
      "Soyad: Yıldız \n",
      "Yaş: 36\n",
      "\n",
      "Ad: Sezer \n",
      "Soyad:  \n",
      "Yaş: 29\n"
     ]
    }
   ],
   "source": [
    "\n",
    "class employee: #__init__ özel bir fonksiyon\n",
    "    def __init__(self,name,surname=\"\",age=\"\"): #self benim oluşturduğum değişken, değişkenler girilmediği durumda ne yapılması gerektiğini belirtmek için istediğin değişkenlere default değer ara\n",
    "        self.name = name #name, surname, age değişkenimin özellikleri (attribute)\n",
    "        self.surname = surname\n",
    "        self.age = age\n",
    "    def show_info(self): #class'a bağlı olan fonksiyonlara metot denir.\n",
    "        print(f\"Ad: {self.name} \\nSoyad: {self.surname} \\nYaş: {self.age}\")\n",
    "# Creating instances. Ahmet, Mehmet,.. bunlar instance variables(örnek/nesnelerin değişkenleri)        \n",
    "employee1=employee(\"Ahmet\",'Cevizkabuğu',32) #employee1 self olarak prosedüre gidecek\n",
    "employee2=employee(\"Mehmet\",\"Yıldız\",36)\n",
    "employee3=employee(\"Sezer\",age=29) #soyadı yazmadığın için ikinci sırada yazdığını age olarak alması için age'i eşitliyoruz\n",
    "#print(employee1.name,employee1.surname)\n",
    "#print(employee2.name,employee2.age)\n",
    "employee1.show_info() #employee1 show_info'ya self olarak gönderildi\n",
    "print(\"\")\n",
    "employee.show_info(employee2)\n",
    "print(\"\")\n",
    "employee3.show_info()"
   ]
  },
  {
   "cell_type": "markdown",
   "id": "e03fb27f",
   "metadata": {},
   "source": [
    "<font face=\"Courier New\" color=\"lightgreen\" size=\"3\"><b>Class Variables vs Instance Variables"
   ]
  },
  {
   "cell_type": "code",
   "execution_count": 33,
   "id": "16733d7d",
   "metadata": {},
   "outputs": [
    {
     "name": "stdout",
     "output_type": "stream",
     "text": [
      "ali\n",
      "{'isim': 'ali', 'maas': 5000}\n",
      "1.1\n",
      "1.1\n",
      "Classta değişiklik yapınca:\n",
      "1.2\n",
      "1.2\n",
      "Belirli bir nesnede değişiklik yapınca:\n",
      "1.2\n",
      "1.2\n",
      "1.2\n"
     ]
    }
   ],
   "source": [
    "class calisan:\n",
    "    zam_orani=1.1\n",
    "    def __init__(self,isim,maas):\n",
    "        self.isim=isim\n",
    "        self.maas=maas\n",
    "calisan1=calisan(\"ali\",5000)\n",
    "calisan2=calisan(\"ahmet\",6000)\n",
    "print(calisan1.isim)\n",
    "print(calisan1.__dict__)\n",
    "\n",
    "print(calisan.zam_orani)\n",
    "print(calisan1.zam_orani) #nesnenin kendisinde bulamayınca class'a bakıyor.\n",
    "\n",
    "calisan.zam_orani=1.2 #class'takini değiştirince hepsi değişiyor.\n",
    "print(\"Classta değişiklik yapınca:\")\n",
    "print(calisan.zam_orani)\n",
    "print(calisan1.zam_orani)\n",
    "print(\"Belirli bir nesnede değişiklik yapınca:\")\n",
    "calisan1.zam_orani=1.2 #nesneninkini değiştirince sadece o değişiyor.\n",
    "print(calisan.zam_orani)\n",
    "print(calisan1.zam_orani)\n",
    "print(calisan2.zam_orani)"
   ]
  },
  {
   "cell_type": "code",
   "execution_count": 35,
   "id": "3966ea06",
   "metadata": {
    "scrolled": true
   },
   "outputs": [
    {
     "name": "stdout",
     "output_type": "stream",
     "text": [
      "0\n",
      "1\n",
      "2\n"
     ]
    }
   ],
   "source": [
    "class calisan:\n",
    "    personel_sayisi=0\n",
    "    def __init__(self,isim,maas): #nesne oluşturduğumuz zaman otomatik olarak çalışan bir fonksiyon\n",
    "        self.isim=isim\n",
    "        self.maas=maas\n",
    "        calisan.personel_sayisi+=1\n",
    "print(calisan.personel_sayisi)\n",
    "calisan1=calisan(\"ali\",5000)\n",
    "print(calisan.personel_sayisi)\n",
    "calisan2=calisan(\"ahmet\",6000)\n",
    "print(calisan.personel_sayisi)"
   ]
  },
  {
   "cell_type": "markdown",
   "id": "0c89ae63",
   "metadata": {},
   "source": [
    "<font face=\"Courier New\" color=\"lightgreen\" size=\"3\"><b>Class Methods | Instance Methods | Static Methods"
   ]
  },
  {
   "cell_type": "code",
   "execution_count": null,
   "id": "e8cc1ae6",
   "metadata": {},
   "outputs": [],
   "source": [
    "class kisi:\n",
    "    kisi_sayisi=0\n",
    "    def __init__(self,isim,yas):\n",
    "        self.isim=isim\n",
    "        self.yas=yas\n",
    "        kisi.kisi_sayisi+=1\n",
    "    def bilgilerini_soyle(self): #Instance method\n",
    "        return f\"Ad:{self.isim} Yaş:{self.yas}\"\n",
    "    @classmethod #nesneyle değil de cls ismiyle çağrılıyor\n",
    "    def kisi_sayisini_soyle(cls): #cls fonksiyonu çağırırken kullandığımız class\n",
    "        return cls.kisi_sayisi\n",
    "    @classmethod\n",
    "    def string_ile_olustur(cls,str_):\n",
    "        isim,yas=str_.split(\"-\")\n",
    "        return cls(isim,yas)\n",
    "    @staticmethod #içine değişken almak zorunda değil\n",
    "    def dogum_yili_hesapla(kisi):\n",
    "        return date.today().year-kisi.yas    \n",
    "    \n",
    "kisi1=kisi(\"Ali\",20)\n",
    "kisi2=kisi(\"Veli\",30)\n",
    "kisi3=kisi.string_ile_olustur(\"Ayşe-20\")\n",
    "print(kisi.kisi_sayisini_soyle())"
   ]
  },
  {
   "attachments": {
    "image.png": {
     "image/png": "[encoded data removed]"
    }
   },
   "cell_type": "markdown",
   "id": "89e81054",
   "metadata": {},
   "source": [
    "Inheritance\n",
    "![image.png](attachment:image.png)\n"
   ]
  },
  {
   "cell_type": "code",
   "execution_count": 18,
   "id": "9128339a",
   "metadata": {},
   "outputs": [
    {
     "ename": "TypeError",
     "evalue": "object.__init__() takes exactly one argument (the instance to initialize)",
     "output_type": "error",
     "traceback": [
      "\u001b[1;31m---------------------------------------------------------------------------\u001b[0m",
      "\u001b[1;31mTypeError\u001b[0m                                 Traceback (most recent call last)",
      "Cell \u001b[1;32mIn[18], line 14\u001b[0m\n\u001b[0;32m     11\u001b[0m     \u001b[38;5;28;01mdef\u001b[39;00m \u001b[38;5;21m__init__\u001b[39m(\u001b[38;5;28mself\u001b[39m, isim, soyisim, maas):\n\u001b[0;32m     12\u001b[0m         \u001b[38;5;28msuper\u001b[39m()\u001b[38;5;241m.\u001b[39m\u001b[38;5;21m__init__\u001b[39m(isim, soyisim, maas)\n\u001b[1;32m---> 14\u001b[0m yazılımcı1\u001b[38;5;241m=\u001b[39mYazılımcı(\u001b[38;5;124m\"\u001b[39m\u001b[38;5;124mayşe\u001b[39m\u001b[38;5;124m\"\u001b[39m,\u001b[38;5;124m\"\u001b[39m\u001b[38;5;124myıldız\u001b[39m\u001b[38;5;124m\"\u001b[39m,\u001b[38;5;241m7000\u001b[39m)\n\u001b[0;32m     15\u001b[0m \u001b[38;5;28mprint\u001b[39m(yazılımcı1\u001b[38;5;241m.\u001b[39memail)\n\u001b[0;32m     16\u001b[0m \u001b[38;5;28mprint\u001b[39m(yazılımcı\u001b[38;5;241m.\u001b[39mzam_oranı)\n",
      "Cell \u001b[1;32mIn[18], line 12\u001b[0m, in \u001b[0;36mYazılımcı.__init__\u001b[1;34m(self, isim, soyisim, maas)\u001b[0m\n\u001b[0;32m     11\u001b[0m \u001b[38;5;28;01mdef\u001b[39;00m \u001b[38;5;21m__init__\u001b[39m(\u001b[38;5;28mself\u001b[39m, isim, soyisim, maas):\n\u001b[1;32m---> 12\u001b[0m     \u001b[38;5;28msuper\u001b[39m()\u001b[38;5;241m.\u001b[39m\u001b[38;5;21m__init__\u001b[39m(isim, soyisim, maas)\n",
      "\u001b[1;31mTypeError\u001b[0m: object.__init__() takes exactly one argument (the instance to initialize)"
     ]
    }
   ],
   "source": [
    "class Çalışan:\n",
    "    zam_oranı=1.1\n",
    "    def __unit__(self,isim,soyisim,maas):\n",
    "        self.isim=isim\n",
    "        self.soyisim=soyisim\n",
    "        self.maas=maas\n",
    "        self.email=isim+soyisim+\"@amazon.com\"\n",
    "class Yazılımcı(Çalışan): # yazılımcı calisan'ın özelliklerini miras alacak.\n",
    "    #pass yazarak devamına hiçbir şey yazmayıp class'ı tamamlayabilirsin.\n",
    "    zam_oranı=1.2\n",
    "\n",
    "yazılımcı1=Yazılımcı(\"ayşe\",\"yıldız\",7000)\n",
    "print(yazılımcı1.email)\n",
    "print(yazılımcı.zam_oranı) #yazilimci'da zam oranı olduğu için calisan'daki geçersiz\n"
   ]
  }
 ],
 "metadata": {
  "kernelspec": {
   "display_name": "Python 3 (ipykernel)",
   "language": "python",
   "name": "python3"
  },
  "language_info": {
   "codemirror_mode": {
    "name": "ipython",
    "version": 3
   },
   "file_extension": ".py",
   "mimetype": "text/x-python",
   "name": "python",
   "nbconvert_exporter": "python",
   "pygments_lexer": "ipython3",
   "version": "3.11.5"
  }
 },
 "nbformat": 4,
 "nbformat_minor": 5
}
